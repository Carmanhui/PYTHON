{
 "cells": [
  {
   "cell_type": "code",
   "execution_count": 1,
   "metadata": {},
   "outputs": [],
   "source": [
    "import os"
   ]
  },
  {
   "cell_type": "code",
   "execution_count": 21,
   "metadata": {},
   "outputs": [
    {
     "name": "stdout",
     "output_type": "stream",
     "text": [
      "['美女-0.jpg', '美女-1.jpg', '美女-10.jpg', '美女-100.jpg', '美女-101.jpg', '美女-102.jpg', '美女-103.jpg', '美女-104.jpg', '美女-105.jpg', '美女-106.jpg', '美女-107.jpg', '美女-108.jpg', '美女-109.jpg', '美女-11.jpg', '美女-110.jpg', '美女-111.jpg', '美女-112.jpg', '美女-113.jpg', '美女-114.jpg', '美女-115.jpg', '美女-116.jpg', '美女-117.jpg', '美女-118.jpg', '美女-119.jpg', '美女-12.jpg', '美女-120.jpg', '美女-121.jpg', '美女-122.jpg', '美女-123.jpg', '美女-124.jpg', '美女-125.jpg', '美女-126.jpg', '美女-127.jpg', '美女-128.jpg', '美女-129.jpg', '美女-13.jpg', '美女-130.jpg', '美女-131.jpg', '美女-132.jpg', '美女-133.jpg', '美女-134.jpg', '美女-135.jpg', '美女-136.jpg', '美女-137.jpg', '美女-138.jpg', '美女-139.jpg', '美女-14.jpg', '美女-140.jpg', '美女-141.jpg', '美女-142.jpg', '美女-143.jpg', '美女-144.jpg', '美女-145.jpg', '美女-146.jpg', '美女-147.jpg', '美女-148.jpg', '美女-149.jpg', '美女-15.jpg', '美女-150.jpg', '美女-151.jpg', '美女-152.jpg', '美女-153.jpg', '美女-154.jpg', '美女-155.jpg', '美女-156.jpg', '美女-157.jpg', '美女-158.jpg', '美女-159.jpg', '美女-16.jpg', '美女-160.jpg', '美女-161.jpg', '美女-162.jpg', '美女-163.jpg', '美女-164.jpg', '美女-165.jpg', '美女-166.jpg', '美女-167.jpg', '美女-168.jpg', '美女-169.jpg', '美女-17.jpg', '美女-170.jpg', '美女-171.jpg', '美女-172.jpg', '美女-173.jpg', '美女-174.jpg', '美女-175.jpg', '美女-176.jpg', '美女-177.jpg', '美女-178.jpg', '美女-179.jpg', '美女-18.jpg', '美女-180.jpg', '美女-181.jpg', '美女-19.jpg', '美女-2.jpg', '美女-20.jpg', '美女-21.jpg', '美女-22.jpg', '美女-23.jpg', '美女-24.jpg', '美女-25.jpg', '美女-26.jpg', '美女-27.jpg', '美女-28.jpg', '美女-29.jpg', '美女-3.jpg', '美女-30.jpg', '美女-31.jpg', '美女-32.jpg', '美女-33.jpg', '美女-34.jpg', '美女-35.jpg', '美女-36.jpg', '美女-37.jpg', '美女-38.jpg', '美女-39.jpg', '美女-4.jpg', '美女-40.jpg', '美女-41.jpg', '美女-42.jpg', '美女-43.jpg', '美女-44.jpg', '美女-45.jpg', '美女-46.jpg', '美女-47.jpg', '美女-48.jpg', '美女-49.jpg', '美女-5.jpg', '美女-50.jpg', '美女-51.jpg', '美女-52.jpg', '美女-53.jpg', '美女-54.jpg', '美女-55.jpg', '美女-56.jpg', '美女-57.jpg', '美女-58.jpg', '美女-59.jpg', '美女-6.jpg', '美女-60.jpg', '美女-61.jpg', '美女-62.jpg', '美女-63.jpg', '美女-64.jpg', '美女-65.jpg', '美女-66.jpg', '美女-67.jpg', '美女-68.jpg', '美女-69.jpg', '美女-7.jpg', '美女-70.jpg', '美女-71.jpg', '美女-72.jpg', '美女-73.jpg', '美女-74.jpg', '美女-75.jpg', '美女-76.jpg', '美女-77.jpg', '美女-78.jpg', '美女-79.jpg', '美女-8.jpg', '美女-80.jpg', '美女-81.jpg', '美女-82.jpg', '美女-83.jpg', '美女-84.jpg', '美女-85.jpg', '美女-86.jpg', '美女-87.jpg', '美女-88.jpg', '美女-89.jpg', '美女-9.jpg', '美女-90.jpg', '美女-91.jpg', '美女-92.jpg', '美女-93.jpg', '美女-94.jpg', '美女-95.jpg', '美女-96.jpg', '美女-97.jpg', '美女-98.jpg', '美女-99.jpg']\n"
     ]
    }
   ],
   "source": [
    "path = r'C:\\Users\\Liu\\Desktop\\壁纸'\n",
    "count = 0\n",
    "filelist = os.listdir(path)#该文件夹下所有的文件（包括文件夹）\n",
    "print(filelist)"
   ]
  },
  {
   "cell_type": "code",
   "execution_count": 22,
   "metadata": {},
   "outputs": [],
   "source": [
    "for files in filelist:\n",
    "    Olddir = os.path.join(path,files)#原来的文件路径\n",
    "#     print(Olddir)\n",
    "    filename = os.path.splitext(files)[0]#文件名\n",
    "    filetype=os.path.splitext(files)[1];#文件扩展名\n",
    "    Newdir=os.path.join(path,str(count)+filetype);#新的文件路径，这一行可以根据需要进行修改\n",
    "    os.rename(Olddir,Newdir);#重命名\n",
    "    count +=1\n"
   ]
  },
  {
   "cell_type": "code",
   "execution_count": 23,
   "metadata": {},
   "outputs": [
    {
     "name": "stdout",
     "output_type": "stream",
     "text": [
      "['0.jpg', '1.jpg', '10.jpg', '100.jpg', '101.jpg', '102.jpg', '103.jpg', '104.jpg', '105.jpg', '106.jpg', '107.jpg', '108.jpg', '109.jpg', '11.jpg', '110.jpg', '111.jpg', '112.jpg', '113.jpg', '114.jpg', '115.jpg', '116.jpg', '117.jpg', '118.jpg', '119.jpg', '12.jpg', '120.jpg', '121.jpg', '122.jpg', '123.jpg', '124.jpg', '125.jpg', '126.jpg', '127.jpg', '128.jpg', '129.jpg', '13.jpg', '130.jpg', '131.jpg', '132.jpg', '133.jpg', '134.jpg', '135.jpg', '136.jpg', '137.jpg', '138.jpg', '139.jpg', '14.jpg', '140.jpg', '141.jpg', '142.jpg', '143.jpg', '144.jpg', '145.jpg', '146.jpg', '147.jpg', '148.jpg', '149.jpg', '15.jpg', '150.jpg', '151.jpg', '152.jpg', '153.jpg', '154.jpg', '155.jpg', '156.jpg', '157.jpg', '158.jpg', '159.jpg', '16.jpg', '160.jpg', '161.jpg', '162.jpg', '163.jpg', '164.jpg', '165.jpg', '166.jpg', '167.jpg', '168.jpg', '169.jpg', '17.jpg', '170.jpg', '171.jpg', '172.jpg', '173.jpg', '174.jpg', '175.jpg', '176.jpg', '177.jpg', '178.jpg', '179.jpg', '18.jpg', '180.jpg', '181.jpg', '19.jpg', '2.jpg', '20.jpg', '21.jpg', '22.jpg', '23.jpg', '24.jpg', '25.jpg', '26.jpg', '27.jpg', '28.jpg', '29.jpg', '3.jpg', '30.jpg', '31.jpg', '32.jpg', '33.jpg', '34.jpg', '35.jpg', '36.jpg', '37.jpg', '38.jpg', '39.jpg', '4.jpg', '40.jpg', '41.jpg', '42.jpg', '43.jpg', '44.jpg', '45.jpg', '46.jpg', '47.jpg', '48.jpg', '49.jpg', '5.jpg', '50.jpg', '51.jpg', '52.jpg', '53.jpg', '54.jpg', '55.jpg', '56.jpg', '57.jpg', '58.jpg', '59.jpg', '6.jpg', '60.jpg', '61.jpg', '62.jpg', '63.jpg', '64.jpg', '65.jpg', '66.jpg', '67.jpg', '68.jpg', '69.jpg', '7.jpg', '70.jpg', '71.jpg', '72.jpg', '73.jpg', '74.jpg', '75.jpg', '76.jpg', '77.jpg', '78.jpg', '79.jpg', '8.jpg', '80.jpg', '81.jpg', '82.jpg', '83.jpg', '84.jpg', '85.jpg', '86.jpg', '87.jpg', '88.jpg', '89.jpg', '9.jpg', '90.jpg', '91.jpg', '92.jpg', '93.jpg', '94.jpg', '95.jpg', '96.jpg', '97.jpg', '98.jpg', '99.jpg']\n"
     ]
    }
   ],
   "source": [
    "filelist = os.listdir(path)#该文件夹下所有的文件（包括文件夹）\n",
    "print(filelist)"
   ]
  },
  {
   "cell_type": "code",
   "execution_count": null,
   "metadata": {},
   "outputs": [],
   "source": []
  },
  {
   "cell_type": "code",
   "execution_count": null,
   "metadata": {},
   "outputs": [],
   "source": []
  }
 ],
 "metadata": {
  "kernelspec": {
   "display_name": "Python 3",
   "language": "python",
   "name": "python3"
  },
  "language_info": {
   "codemirror_mode": {
    "name": "ipython",
    "version": 3
   },
   "file_extension": ".py",
   "mimetype": "text/x-python",
   "name": "python",
   "nbconvert_exporter": "python",
   "pygments_lexer": "ipython3",
   "version": "3.6.5"
  }
 },
 "nbformat": 4,
 "nbformat_minor": 2
}
