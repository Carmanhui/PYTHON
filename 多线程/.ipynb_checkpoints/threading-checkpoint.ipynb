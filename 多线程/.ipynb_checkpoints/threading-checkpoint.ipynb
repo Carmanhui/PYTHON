{
 "cells": [
  {
   "cell_type": "code",
   "execution_count": 3,
   "metadata": {},
   "outputs": [
    {
     "name": "stdout",
     "output_type": "stream",
     "text": [
      "我是子线程:Fri Dec 14 09:53:06 2018\n",
      "我是子线程:Fri Dec 14 09:53:06 2018\n",
      "我是主线程:Fri Dec 14 09:53:06 2018我是主线程:Fri Dec 14 09:53:06 2018我是子线程:Fri Dec 14 09:53:06 2018\n",
      "\n",
      "我是主线程:Fri Dec 14 09:53:06 2018\n",
      "End Fri Dec 14 09:53:06 2018\n",
      "\n",
      "我是子线程:Fri Dec 14 09:53:07 2018\n",
      "我是子线程:Fri Dec 14 09:53:07 2018\n",
      "我是主线程:Fri Dec 14 09:53:07 2018我是主线程:Fri Dec 14 09:53:07 2018\n",
      "\n",
      "我是子线程:Fri Dec 14 09:53:07 2018\n",
      "我是主线程:Fri Dec 14 09:53:07 2018\n",
      "我是子线程:Fri Dec 14 09:53:08 2018\n",
      "我是子线程:Fri Dec 14 09:53:08 2018\n",
      "我是主线程:Fri Dec 14 09:53:08 2018\n",
      "我是主线程:Fri Dec 14 09:53:08 2018\n"
     ]
    }
   ],
   "source": [
    "import threading\n",
    "from time import ctime,sleep\n",
    "\n",
    "def child():\n",
    "    while True:\n",
    "        print(\"我是子线程:%s\"%ctime())\n",
    "        sleep(1)\n",
    "\n",
    "def father():\n",
    "    while True:\n",
    "        print(\"我是主线程:%s\"%ctime())\n",
    "        sleep(1)\n",
    "threads = []\n",
    "t1 = threading.Thread(target=child)\n",
    "threads.append(t1)\n",
    "t2= threading.Thread(target=father)\n",
    "threads.append(t2)\n",
    "\n",
    "for t in threads:\n",
    "    t.setDaemon(True)\n",
    "    t.start()\n",
    "# t.join()\n",
    "print(\"End %s\"%ctime())"
   ]
  },
  {
   "cell_type": "code",
   "execution_count": null,
   "metadata": {},
   "outputs": [],
   "source": []
  },
  {
   "cell_type": "code",
   "execution_count": null,
   "metadata": {},
   "outputs": [],
   "source": []
  },
  {
   "cell_type": "code",
   "execution_count": 18,
   "metadata": {},
   "outputs": [
    {
     "name": "stdout",
     "output_type": "stream",
     "text": [
      "Start playing： 爱情买卖.mp3! Fri Dec 14 09:43:50 2018\n",
      "Start playing： 阿凡达.mp3! Fri Dec 14 09:43:51 2018\n",
      "Start playing： 爱情买卖.mp3! Fri Dec 14 09:43:53 2018\n",
      "Start playing： 阿凡达.mp3! Fri Dec 14 09:43:53 2018\n",
      "end:Fri Dec 14 09:43:55 2018\n"
     ]
    }
   ],
   "source": [
    "import threading\n",
    "from time import ctime,sleep\n",
    "\n",
    "def muisc(func):\n",
    "    for i in range(2):\n",
    "        print ('Start playing： %s! %s' %(func,ctime()))\n",
    "        sleep(2)\n",
    "        \n",
    "def move(func):\n",
    "    for i in range(2):\n",
    "        print ('Start playing： %s! %s' %(func,ctime()))\n",
    "        sleep(5)\n",
    "\n",
    "def player(name):\n",
    "    r = name.split('.')[1]\n",
    "    if r == 'mp3':\n",
    "        muisc(name)\n",
    "    else:\n",
    "        if r == 'mp4':\n",
    "            move(name)\n",
    "        else:\n",
    "            print ('error: The format is not recognized!')\n",
    "            \n",
    "lists = ['爱情买卖.mp3','阿凡达.mp3']\n",
    "threads = []\n",
    "files = range(len(lists))\n",
    "#创建进程\n",
    "for i in files:\n",
    "    t = threading.Thread(target = player,args=(lists[i],))\n",
    "    threads.append(t)\n",
    "#启动进程\n",
    "for i in files:\n",
    "    threads[i].start()\n",
    "\n",
    "for i in files:\n",
    "    threads[i].join()\n",
    "\n",
    "#主进程\n",
    "print(\"end:%s\"%ctime())\n",
    "        "
   ]
  },
  {
   "cell_type": "code",
   "execution_count": 13,
   "metadata": {},
   "outputs": [
    {
     "name": "stdout",
     "output_type": "stream",
     "text": [
      "Start playing： 爱情买卖.mp3! Fri Dec 14 09:29:23 2018\n",
      "Start playing： 阿凡达.mp3! Fri Dec 14 09:29:23 2018\n",
      "Start playing： 爱情买卖.mp3! Fri Dec 14 09:29:25 2018\n",
      "Start playing： 阿凡达.mp3! Fri Dec 14 09:29:25 2018\n",
      "end:Fri Dec 14 09:29:27 2018\n"
     ]
    }
   ],
   "source": [
    "\n"
   ]
  },
  {
   "cell_type": "markdown",
   "metadata": {},
   "source": [
    "# RLock"
   ]
  },
  {
   "cell_type": "code",
   "execution_count": 15,
   "metadata": {},
   "outputs": [
    {
     "name": "stdout",
     "output_type": "stream",
     "text": [
      "1\n",
      "2\n",
      "3\n",
      "4\n",
      "5\n",
      "6\n",
      "7\n",
      "8\n",
      "9\n",
      "10\n"
     ]
    }
   ],
   "source": [
    "# coding:utf-8\n",
    "\n",
    "import threading\n",
    "import time\n",
    "\n",
    "gl_num = 0\n",
    "lock = threading.RLock()\n",
    "\n",
    "# 调用acquire([timeout])时，线程将一直阻塞，\n",
    "# 直到获得锁定或者直到timeout秒后（timeout参数可选）。\n",
    "# 返回是否获得锁。\n",
    "def Func():\n",
    "    lock.acquire()\n",
    "    global gl_num\n",
    "    gl_num += 1\n",
    "    time.sleep(1)\n",
    "    print (gl_num)\n",
    "    lock.release()\n",
    "\n",
    "\n",
    "for i in range(10):\n",
    "    t = threading.Thread(target=Func)\n",
    "    t.start()\n"
   ]
  },
  {
   "cell_type": "markdown",
   "metadata": {},
   "source": [
    "# timer"
   ]
  },
  {
   "cell_type": "code",
   "execution_count": 17,
   "metadata": {},
   "outputs": [
    {
     "name": "stdout",
     "output_type": "stream",
     "text": [
      "hello timer!\n"
     ]
    }
   ],
   "source": [
    "# encoding: UTF-8\n",
    "import threading\n",
    "\n",
    "\n",
    "def func():\n",
    "    print ('hello timer!')\n",
    "\n",
    "\n",
    "timer = threading.Timer(5, func)\n",
    "timer.start()"
   ]
  },
  {
   "cell_type": "code",
   "execution_count": null,
   "metadata": {},
   "outputs": [],
   "source": []
  }
 ],
 "metadata": {
  "kernelspec": {
   "display_name": "Python 3",
   "language": "python",
   "name": "python3"
  },
  "language_info": {
   "codemirror_mode": {
    "name": "ipython",
    "version": 3
   },
   "file_extension": ".py",
   "mimetype": "text/x-python",
   "name": "python",
   "nbconvert_exporter": "python",
   "pygments_lexer": "ipython3",
   "version": "3.6.5"
  }
 },
 "nbformat": 4,
 "nbformat_minor": 2
}
