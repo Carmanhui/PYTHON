{
 "cells": [
  {
   "cell_type": "code",
   "execution_count": 21,
   "metadata": {},
   "outputs": [
    {
     "name": "stdout",
     "output_type": "stream",
     "text": [
      "One post: 5bda4b0fa09b983a0cf21a1e\n",
      "Multiple posts: [ObjectId('5bda4b0fa09b983a0cf21a1f'), ObjectId('5bda4b0fa09b983a0cf21a20'), ObjectId('5bda4b0fa09b983a0cf21a21')]\n",
      "{'_id': ObjectId('5bda4ae7a09b983a0cf21a1c'), 'title': 'Learning Python', 'content': 'Learn Python, it is easy', 'author': 'Bill'}\n"
     ]
    }
   ],
   "source": [
    "#建立连接\n",
    "import pymongo\n",
    "connection=pymongo.MongoClient('localhost',27017)\n",
    "#访问数据库\n",
    "db = client['pymongo_test']\n",
    "#插入文档\n",
    "posts = db.posts\n",
    "post_data = {\n",
    "  'title': 'Python and MongoDB',\n",
    "  'content': 'PyMongo is fun, you guys',\n",
    "  'author': 'Scott'\n",
    "}\n",
    "result = posts.insert_one(post_data)\n",
    "print('One post: {0}'.format(result.inserted_id))\n",
    "\n",
    "\n",
    "\n",
    "post_1 = {\n",
    "  'title': 'Python and MongoDB',\n",
    "  'content': 'PyMongo is fun, you guys',\n",
    "  'author': 'Scott'\n",
    "}\n",
    "post_2 = {\n",
    "  'title': 'Virtual Environments',\n",
    "  'content': 'Use virtual environments, you guys',\n",
    "  'author': 'Scott'\n",
    "}\n",
    "post_3 = {\n",
    "  'title': 'Learning Python',\n",
    "  'content': 'Learn Python, it is easy',\n",
    "  'author': 'Bill'\n",
    "}\n",
    "new_result = posts.insert_many([post_1, post_2, post_3])\n",
    "print('Multiple posts: {0}'.format(new_result.inserted_ids))\n",
    "\n",
    "\n",
    "\n",
    "#检索文档\n",
    "bills_post = posts.find_one({'author': 'Bill'})\n",
    "print(bills_post)"
   ]
  },
  {
   "cell_type": "markdown",
   "metadata": {},
   "source": [
    "# 用户验证连接\n"
   ]
  },
  {
   "cell_type": "code",
   "execution_count": 9,
   "metadata": {},
   "outputs": [
    {
     "name": "stdout",
     "output_type": "stream",
     "text": [
      "['admin', 'config', 'local']\n"
     ]
    }
   ],
   "source": [
    "from pymongo import MongoClient\n",
    "\n",
    "#建立MongoDB数据库连接\n",
    "client = MongoClient('mongodb://localhost:27017/')\n",
    "#数据库列表\n",
    "dblist = client.list_database_names()\n",
    "print(dblist)\n",
    "if \"demo\" in dblist:\n",
    "    print(\"数据库已存在\")\n",
    "\n",
    "# 删除数据库\n",
    "client.drop_database(\"demo\")\n",
    "#创建数据库\n",
    "# client.database_names(\"demo\")"
   ]
  },
  {
   "cell_type": "markdown",
   "metadata": {},
   "source": [
    "# 创建集合"
   ]
  },
  {
   "cell_type": "code",
   "execution_count": 4,
   "metadata": {},
   "outputs": [
    {
     "name": "stdout",
     "output_type": "stream",
     "text": [
      "['sites']\n",
      "<pymongo.results.InsertOneResult object at 0x00000021E11AFD08>\n",
      "5bda48a1a09b983a0cf21a0a\n"
     ]
    }
   ],
   "source": [
    "from pymongo import MongoClient\n",
    "\n",
    "#建立MongoDB数据库连接\n",
    "client = MongoClient('mongodb://localhost:27017/')\n",
    "#数据库列表\n",
    "mydb = client[\"demo\"]\n",
    "collist = mydb.list_collection_names()\n",
    "print(collist)\n",
    "\n",
    "\n",
    "#创建集合\n",
    "mycol = mydb[\"sites\"]\n",
    "mydict = {\"name\":\"carmanhui\",\"age\":26,\"url\":\"https://www.carmanhui.com\"}\n",
    "data1 = mycol.insert_one(mydict)\n",
    "print(data1)\n",
    "print(data1.inserted_id)\n"
   ]
  },
  {
   "cell_type": "markdown",
   "metadata": {},
   "source": [
    "# 删除集合"
   ]
  },
  {
   "cell_type": "code",
   "execution_count": 35,
   "metadata": {},
   "outputs": [
    {
     "name": "stdout",
     "output_type": "stream",
     "text": [
      "['test']\n"
     ]
    }
   ],
   "source": [
    "from pymongo import MongoClient\n",
    "\n",
    "#建立MongoDB数据库连接\n",
    "client = MongoClient('mongodb://localhost:27017/')\n",
    "#数据库列表\n",
    "mydb = client[\"demo\"]\n",
    "#创建集合\n",
    "mycol = mydb[\"sites\"]\n",
    "mycol.drop()\n",
    "#显示集合\n",
    "collist = mydb.list_collection_names()\n",
    "print(collist)"
   ]
  },
  {
   "cell_type": "markdown",
   "metadata": {},
   "source": [
    "# 添加数据"
   ]
  },
  {
   "cell_type": "code",
   "execution_count": 26,
   "metadata": {},
   "outputs": [
    {
     "name": "stdout",
     "output_type": "stream",
     "text": [
      "<pymongo.results.InsertManyResult object at 0x000000B3D04A4688>\n",
      "[1, 2]\n"
     ]
    }
   ],
   "source": [
    "from pymongo import MongoClient\n",
    "\n",
    "#建立MongoDB数据库连接\n",
    "client = MongoClient('mongodb://localhost:27017/')\n",
    "#数据库列表\n",
    "mydb = client[\"demo\"]\n",
    "mycol = mydb[\"sites\"]\n",
    "#插入单个文档\n",
    "# mydict = {\"name\":\"carmanhui\",\"age\":26,\"url\":\"https://www.carmanhui.com\"}\n",
    "# data1 = mycol.insert_one(mydict)\n",
    "# print(data1)\n",
    "# print(data1.inserted_id)\n",
    "#插入多个文档\n",
    "mydict = [{\"_id\":1,\"name\":\"carmanhui\",\"age\":26,\"url\":\"https://www.carmanhui.com\"},\n",
    "         {\"_id\":2,\"name\":\"carmanyu\",\"age\":26,\"url\":\"https://www.carmanyu.com\"}\n",
    "         ]\n",
    "data1 = mycol.insert_many(mydict)\n",
    "print(data1)\n",
    "print(data1.inserted_ids)\n"
   ]
  },
  {
   "cell_type": "markdown",
   "metadata": {},
   "source": [
    "# 查询数据"
   ]
  },
  {
   "cell_type": "code",
   "execution_count": 31,
   "metadata": {},
   "outputs": [
    {
     "name": "stdout",
     "output_type": "stream",
     "text": [
      "{'_id': 1, 'name': 'carmanhui', 'age': 26, 'url': 'https://www.carmanhui.com'}\n"
     ]
    }
   ],
   "source": [
    "from pymongo import MongoClient\n",
    "\n",
    "#建立MongoDB数据库连接\n",
    "client = MongoClient('mongodb://localhost:27017/')\n",
    "#数据库列表\n",
    "mydb = client[\"demo\"]\n",
    "mycol = mydb[\"sites\"]\n",
    "#查询所有数据\n",
    "# for  x in mycol.find():\n",
    "#     print(x)\n",
    "#查询制定字段的数据\n",
    "for x in mycol.find({\"_id\":1,\"name\":\"carmanhui\"}):\n",
    "    print(x)"
   ]
  },
  {
   "cell_type": "markdown",
   "metadata": {},
   "source": [
    "# 修改数据"
   ]
  },
  {
   "cell_type": "code",
   "execution_count": 33,
   "metadata": {},
   "outputs": [
    {
     "name": "stdout",
     "output_type": "stream",
     "text": [
      "{'_id': ObjectId('5b888cf4a09b980674b8ccf4'), 'name': 'carmanhui', 'age': '27', 'url': 'https://www.carmanhui.com'}\n",
      "{'_id': ObjectId('5b888d32a09b980674b8ccf8'), 'name': 'carmanhui', 'age': '27', 'url': 'https://www.carmanhui.com'}\n",
      "{'_id': ObjectId('5b888db9a09b980674b8ccfb'), 'name': 'carmanhui', 'age': '27', 'url': 'https://www.carmanhui.com'}\n",
      "{'_id': ObjectId('5b888db9a09b980674b8ccfc'), 'name': 'carmanyu', 'age': '27', 'url': 'https://www.carmanyu.com'}\n",
      "{'_id': ObjectId('5b888dc3a09b980674b8ccfe'), 'name': 'carmanhui', 'age': '27', 'url': 'https://www.carmanhui.com'}\n",
      "{'_id': ObjectId('5b888dc3a09b980674b8ccff'), 'name': 'carmanyu', 'age': '27', 'url': 'https://www.carmanyu.com'}\n",
      "{'_id': 1, 'name': 'carmanhui', 'age': '27', 'url': 'https://www.carmanhui.com'}\n",
      "{'_id': 2, 'name': 'carmanyu', 'age': '27', 'url': 'https://www.carmanyu.com'}\n"
     ]
    }
   ],
   "source": [
    "from pymongo import MongoClient\n",
    "\n",
    "#建立MongoDB数据库连接\n",
    "client = MongoClient('mongodb://localhost:27017/')\n",
    "#数据库列表\n",
    "mydb = client[\"demo\"]\n",
    "mycol = mydb[\"sites\"]\n",
    "myquery = {\"age\":26}\n",
    "newvalues = {\"$set\":{\"age\":\"27\"}}\n",
    "mycol.update_many(myquery,newvalues)\n",
    "for  x in mycol.find():\n",
    "    print(x)"
   ]
  },
  {
   "cell_type": "markdown",
   "metadata": {},
   "source": [
    "# 删除数据"
   ]
  },
  {
   "cell_type": "code",
   "execution_count": 34,
   "metadata": {},
   "outputs": [
    {
     "name": "stdout",
     "output_type": "stream",
     "text": [
      "{'_id': ObjectId('5b888db9a09b980674b8ccfc'), 'name': 'carmanyu', 'age': '27', 'url': 'https://www.carmanyu.com'}\n",
      "{'_id': ObjectId('5b888dc3a09b980674b8ccff'), 'name': 'carmanyu', 'age': '27', 'url': 'https://www.carmanyu.com'}\n",
      "{'_id': 2, 'name': 'carmanyu', 'age': '27', 'url': 'https://www.carmanyu.com'}\n"
     ]
    }
   ],
   "source": [
    "from pymongo import MongoClient\n",
    "\n",
    "#建立MongoDB数据库连接\n",
    "client = MongoClient('mongodb://localhost:27017/')\n",
    "#数据库列表\n",
    "mydb = client[\"demo\"]\n",
    "mycol = mydb[\"sites\"]\n",
    "myquery = {\"name\":\"carmanhui\"}\n",
    "mycol.delete_many(myquery)\n",
    "for  x in mycol.find():\n",
    "    print(x)\n",
    "# 删除所有\n",
    "# mycol.delete_many({})"
   ]
  },
  {
   "cell_type": "code",
   "execution_count": null,
   "metadata": {},
   "outputs": [],
   "source": []
  }
 ],
 "metadata": {
  "kernelspec": {
   "display_name": "Python 3",
   "language": "python",
   "name": "python3"
  },
  "language_info": {
   "codemirror_mode": {
    "name": "ipython",
    "version": 3
   },
   "file_extension": ".py",
   "mimetype": "text/x-python",
   "name": "python",
   "nbconvert_exporter": "python",
   "pygments_lexer": "ipython3",
   "version": "3.6.5"
  }
 },
 "nbformat": 4,
 "nbformat_minor": 2
}
